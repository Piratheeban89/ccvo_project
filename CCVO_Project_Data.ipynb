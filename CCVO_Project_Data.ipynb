{
 "cells": [
  {
   "cell_type": "code",
   "execution_count": null,
   "id": "a1009348",
   "metadata": {},
   "outputs": [],
   "source": []
  },
  {
   "cell_type": "markdown",
   "id": "e6570a13",
   "metadata": {},
   "source": [
    "Pagination\n",
    "\n",
    "The provided Python script utilizes web scraping techniques to extract information from a webpage on the Canada Revenue Agency (CRA) website. It iterates through two pages of search results, searching for organizations in Alberta ('AB') with a specific status and sorting criteria. The script uses the BeautifulSoup library to parse the webpage's HTML content, identifies relevant table rows, extracts the URLs of organizations, constructs complete URLs using a base URL, and appends them to a list called org_link_list. Ultimately, this script serves as a tool for gathering links to organizations that match the specified criteria, though the exact purpose or use of these links would require additional context"
   ]
  },
  {
   "cell_type": "code",
   "execution_count": 10,
   "id": "4765c5ec",
   "metadata": {},
   "outputs": [
    {
     "name": "stdout",
     "output_type": "stream",
     "text": [
      "https://apps.cra-arc.gc.ca/ebci/hacc/srch/pub/dtldAdvncdSrch?dsrdPg=1&q.stts=0007&q.prvncSttCd=AB&q.ordrClmn=NAME&q.ordrRnk=ASC\n",
      "https://apps.cra-arc.gc.ca/ebci/hacc/srch/pub/dtldAdvncdSrch?dsrdPg=2&q.stts=0007&q.prvncSttCd=AB&q.ordrClmn=NAME&q.ordrRnk=ASC\n",
      "50\n"
     ]
    }
   ],
   "source": [
    "from bs4 import BeautifulSoup as bs\n",
    "import requests\n",
    "import pandas as pd\n",
    "import re\n",
    "\n",
    "\n",
    "org_link_list=[]\n",
    "baseurl='https://apps.cra-arc.gc.ca'\n",
    "\n",
    "for i in range(1,3):\n",
    "    url = f'https://apps.cra-arc.gc.ca/ebci/hacc/srch/pub/dtldAdvncdSrch?dsrdPg={i}&q.stts=0007&q.prvncSttCd=AB&q.ordrClmn=NAME&q.ordrRnk=ASC'\n",
    "    print(url)\n",
    "    r= requests.get(url)\n",
    "    soup= bs(r.text,'html.parser')\n",
    "    table = soup.find('table')  \n",
    "    for row in table.find_all('tr')[1:]:\n",
    "        link = row.find('a')\n",
    "        if link:\n",
    "            href = link.get('href')\n",
    "            org_link = baseurl + href\n",
    "            #print(org_link)\n",
    "            org_link_list.append(org_link)\n",
    "            \n",
    "print(len(org_link_list))"
   ]
  },
  {
   "cell_type": "markdown",
   "id": "514a1af3",
   "metadata": {},
   "source": [
    "In each non-profit organisation page in the CRA website, following code will extract the link for 2021 and 2022 data\n",
    "This will be looped throup each link in \"org_link_list\"."
   ]
  },
  {
   "cell_type": "code",
   "execution_count": 12,
   "id": "6a2cc6a8",
   "metadata": {},
   "outputs": [
    {
     "name": "stdout",
     "output_type": "stream",
     "text": [
      "Link for 2022 data: https://apps.cra-arc.gc.ca/ebci/hacc/srch/pub/dsplyT3010FrFlngPrd?q.stts=0007&q.prvncSttCd=AB&selectedFilingPeriodIndex=0&selectedCharityBn=886474477RR0003&isSingleResult=false\n",
      "Link for 2021 data: https://apps.cra-arc.gc.ca/ebci/hacc/srch/pub/dsplyT3010FrFlngPrd?q.stts=0007&q.prvncSttCd=AB&selectedFilingPeriodIndex=1&selectedCharityBn=886474477RR0003&isSingleResult=false\n"
     ]
    }
   ],
   "source": [
    "\n",
    "url = 'https://apps.cra-arc.gc.ca/ebci/hacc/srch/pub/dsplyRprtngPrd?selectedCharityBn=886474477RR0003&dsrdPg=1&q.stts=0007&q.prvncSttCd=AB'\n",
    "r = requests.get(url)\n",
    "soup = bs(r.text, 'html.parser')\n",
    "\n",
    "sections = soup.find_all('section', class_='col-sm-3')\n",
    "\n",
    "second_section = sections[1]\n",
    "ul = second_section.find('ul', class_='list-unstyled')\n",
    "\n",
    "link2022 = ul.find_all('a')[0].get('href')\n",
    "print('Link for 2022 data:',baseurl + link2022)\n",
    "\n",
    "link2021 = ul.find_all('a')[1].get('href')\n",
    "print('Link for 2021 data:',baseurl + link2021)"
   ]
  },
  {
   "cell_type": "markdown",
   "id": "57842737",
   "metadata": {},
   "source": [
    "Following code explain the senario explain how navigate through two type of non-profit organisations which are annual revenue 'less than 100k', and '100k and above'."
   ]
  },
  {
   "cell_type": "code",
   "execution_count": 17,
   "id": "d68f72c3",
   "metadata": {},
   "outputs": [
    {
     "name": "stdout",
     "output_type": "stream",
     "text": [
      "look for section D \n",
      "4020: Accrual\n",
      "4050: No\n",
      "4200: CAN$ 28,274.00\n"
     ]
    }
   ],
   "source": [
    "\n",
    "\n",
    "#example link for annual revenue is above 100k\n",
    "url_6='https://apps.cra-arc.gc.ca/ebci/hacc/srch/pub/dsplyT3010FrFlngPrd?q.stts=0007&q.prvncSttCd=AB&selectedFilingPeriodIndex=0&selectedCharityBn=108035544RR0001&isSingleResult=false'\n",
    "\n",
    "#example link for annual revenue is less than 100k\n",
    "url_d='https://apps.cra-arc.gc.ca/ebci/hacc/srch/pub/dsplyT3010FrFlngPrd?q.stts=0007&q.prvncSttCd=AB&selectedFilingPeriodIndex=0&selectedCharityBn=886474477RR0003&isSingleResult=false'\n",
    "\n",
    "r = requests.get(url_d)\n",
    "soup= bs(r.text, 'html.parser')\n",
    "\n",
    "table = soup.find_all('div', class_= 'row')\n",
    "table1= table[1]\n",
    "\n",
    "rows= table1.find_all('div', class_='row mrgn-lft-sm')[5]\n",
    "status= rows.find('div',class_='text-bold mrgn-bttm-md').text.strip()\n",
    "\n",
    "\n",
    "if status == 'One or more of the above applies to the charity.  We will complete Schedule 6':\n",
    "    print('look for section 06')\n",
    "    # Find the link associated with \"Schedule 6 - Detailed financial information\"\n",
    "    link1 = table1.find('a', text='Schedule 6 - Detailed financial information')\n",
    "\n",
    "    if link1:\n",
    "        # Extract the href attribute\n",
    "        href = link1.get('href')\n",
    "        sec_6_link= baseurl + href\n",
    "        print(sec_6_link)\n",
    "        r = requests.get(sec_6_link)\n",
    "        soup = BeautifulSoup(r.text, 'html.parser')\n",
    "        #print(soup)\n",
    "    \n",
    "else:\n",
    "    print('look for section D ')\n",
    "    status= rows.find_all('div',class_='row')[1]\n",
    "    q4020 = status.find_all('div', class_='container-fluid')[0].find('div', class_='text-bold mrgn-bttm-md').text.strip()\n",
    "    q4050= status.find_all('div', class_='container-fluid')[1].find('div', class_='text-bold mrgn-bttm-md').text.strip()\n",
    "    q4200= status.find_all('div', class_='container-fluid')[2].find('div', class_='text-bold mrgn-bttm-md').text.strip()\n",
    "    print('4020:', q4020)\n",
    "    print('4050:',q4050)\n",
    "    print('4200:',q4200)"
   ]
  },
  {
   "cell_type": "code",
   "execution_count": null,
   "id": "baa3948b",
   "metadata": {},
   "outputs": [],
   "source": []
  }
 ],
 "metadata": {
  "kernelspec": {
   "display_name": "Python 3 (ipykernel)",
   "language": "python",
   "name": "python3"
  },
  "language_info": {
   "codemirror_mode": {
    "name": "ipython",
    "version": 3
   },
   "file_extension": ".py",
   "mimetype": "text/x-python",
   "name": "python",
   "nbconvert_exporter": "python",
   "pygments_lexer": "ipython3",
   "version": "3.10.9"
  }
 },
 "nbformat": 4,
 "nbformat_minor": 5
}
